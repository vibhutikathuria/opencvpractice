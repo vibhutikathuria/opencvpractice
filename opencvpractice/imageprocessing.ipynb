{
 "cells": [
  {
   "cell_type": "code",
   "execution_count": 3,
   "metadata": {},
   "outputs": [],
   "source": [
    "import numpy as np\n",
    "import cv2\n",
    "pic=cv2.imread('flower.png')\n",
    "cols=pic.shape[1]\n",
    "rows=pic.shape[0]\n",
    "M=np.float32([[1,0,20],[0,1,20]])\n",
    "shifted=cv2.warpAffine(pic,M,(rows,cols))\n",
    "cv2.imshow('shifted', shifted)\n",
    "\n",
    "cv2.waitKey(0)\n",
    "cv2.destroyAllWindows()"
   ]
  },
  {
   "cell_type": "code",
   "execution_count": 6,
   "metadata": {},
   "outputs": [],
   "source": [
    "import numpy as np\n",
    "import cv2\n",
    "pic=cv2.imread('flower.png')\n",
    "cols=pic.shape[1]\n",
    "rows=pic.shape[0]\n",
    "center=(rows/2,cols/2)\n",
    "angle=45\n",
    "N=cv2.getRotationMatrix2D(center,angle,0.5)\n",
    "rotate=cv2.warpAffine(pic,N,(rows,cols))\n",
    "cv2.imshow('rotate', rotate)\n",
    "\n",
    "cv2.waitKey(0)\n",
    "cv2.destroyAllWindows()\n"
   ]
  },
  {
   "cell_type": "code",
   "execution_count": null,
   "metadata": {},
   "outputs": [],
   "source": []
  }
 ],
 "metadata": {
  "kernelspec": {
   "display_name": "Python 3",
   "language": "python",
   "name": "python3"
  },
  "language_info": {
   "codemirror_mode": {
    "name": "ipython",
    "version": 3
   },
   "file_extension": ".py",
   "mimetype": "text/x-python",
   "name": "python",
   "nbconvert_exporter": "python",
   "pygments_lexer": "ipython3",
   "version": "3.8.1"
  }
 },
 "nbformat": 4,
 "nbformat_minor": 4
}
