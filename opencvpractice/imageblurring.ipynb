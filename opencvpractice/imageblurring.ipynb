{
 "cells": [
  {
   "cell_type": "code",
   "execution_count": 2,
   "metadata": {},
   "outputs": [],
   "source": [
    "import cv2\n",
    "import numpy as np\n",
    "pic=cv2.imread('rdj.jpg')\n",
    "matrix=(7,7)\n",
    "blur=cv2.GaussianBlur(pic,matrix,0)\n",
    "cv2.imshow('blurred',blur)\n",
    "\n",
    "cv2.waitKey(0)\n",
    "cv2.destroyAllWindows()\n"
   ]
  },
  {
   "cell_type": "code",
   "execution_count": 5,
   "metadata": {},
   "outputs": [],
   "source": [
    "import cv2\n",
    "import numpy as np\n",
    "pic=cv2.imread('rdj.jpg')\n",
    "kernal=3\n",
    "median=cv2.medianBlur(pic,kernal)\n",
    "\n",
    "cv2.imshow('median blur',median)\n",
    "\n",
    "cv2.waitKey(0)\n",
    "cv2.destroyAllWindows()\n",
    "\n"
   ]
  },
  {
   "cell_type": "code",
   "execution_count": 7,
   "metadata": {},
   "outputs": [],
   "source": [
    "import cv2\n",
    "import numpy as np\n",
    "pic=cv2.imread('rdj.jpg')\n",
    "dimpixel=7\n",
    "color=100\n",
    "space=100\n",
    "filter1=cv2.bilateralFilter(pic,dimpixel,color,space)\n",
    "\n",
    "cv2.imshow('bilateral Blur',filter1)\n",
    "\n",
    "cv2.waitKey(0)\n",
    "cv2.destroyAllWindows()\n"
   ]
  },
  {
   "cell_type": "code",
   "execution_count": null,
   "metadata": {},
   "outputs": [],
   "source": []
  }
 ],
 "metadata": {
  "kernelspec": {
   "display_name": "Python 3",
   "language": "python",
   "name": "python3"
  },
  "language_info": {
   "codemirror_mode": {
    "name": "ipython",
    "version": 3
   },
   "file_extension": ".py",
   "mimetype": "text/x-python",
   "name": "python",
   "nbconvert_exporter": "python",
   "pygments_lexer": "ipython3",
   "version": "3.8.1"
  }
 },
 "nbformat": 4,
 "nbformat_minor": 4
}
