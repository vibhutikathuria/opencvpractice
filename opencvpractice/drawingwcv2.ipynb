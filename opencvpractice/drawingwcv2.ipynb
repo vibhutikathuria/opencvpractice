{
 "cells": [
  {
   "cell_type": "code",
   "execution_count": 14,
   "metadata": {},
   "outputs": [],
   "source": [
    "import numpy as np\n",
    "import cv2\n",
    "pic = np.zeros((600,600,3), dtype='uint8')\n",
    "color=(0,255,255)\n",
    "cv2.circle(pic,(300,300),100, color)\n",
    "cv2.line(pic, (0,0), (600,600), (0,145,0))\n",
    "cv2.line(pic,(0,600),(600,0), (168,255,190))\n",
    "font=cv2.FONT_HERSHEY_DUPLEX\n",
    "cv2.putText(pic, 'this is a text', (100,100), font, 1, (255,255,255),2, cv2.LINE_8)\n",
    "cv2.imshow('dark', pic)\n",
    "cv2.waitKey(0)\n",
    "cv2.destroyAllWindows()"
   ]
  },
  {
   "cell_type": "code",
   "execution_count": null,
   "metadata": {},
   "outputs": [],
   "source": []
  }
 ],
 "metadata": {
  "kernelspec": {
   "display_name": "Python 3",
   "language": "python",
   "name": "python3"
  },
  "language_info": {
   "codemirror_mode": {
    "name": "ipython",
    "version": 3
   },
   "file_extension": ".py",
   "mimetype": "text/x-python",
   "name": "python",
   "nbconvert_exporter": "python",
   "pygments_lexer": "ipython3",
   "version": "3.8.1"
  }
 },
 "nbformat": 4,
 "nbformat_minor": 4
}
